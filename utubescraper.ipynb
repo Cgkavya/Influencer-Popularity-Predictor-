{
 "cells": [
  {
   "cell_type": "code",
   "execution_count": null,
   "metadata": {},
   "outputs": [],
   "source": [
    "import os\n",
    "import time\n",
    "import json\n",
    "import itertools\n",
    "import pandas as pd\n",
    "from googleapiclient.discovery import build\n",
    "from googleapiclient.errors import HttpError"
   ]
  },
  {
   "cell_type": "markdown",
   "metadata": {},
   "source": [
    "==========================================================<br>\n",
    "CONFIGURATION<br>\n",
    "=========================================================="
   ]
  },
  {
   "cell_type": "code",
   "execution_count": null,
   "metadata": {},
   "outputs": [],
   "source": [
    "API_KEYS = [\n",
    "    \"AIza**************************QI2RFz-8\",  # Project 1 key\n",
    "    \"AIza**************************bWHiLgvko\",  # Project 2 key\n",
    "    \"AIza**************************o4sdYeg8\",\n",
    "    \"AIza**************************kCyyRaPk\",\n",
    "    \"AIza**************************WCyEemzE\",\n",
    "    \"AIza***************************-ZwxMUz0\",  \n",
    "]"
   ]
  },
  {
   "cell_type": "code",
   "execution_count": null,
   "metadata": {},
   "outputs": [],
   "source": [
    "SEARCH_QUERIES = [\n",
    "    \"tech influencer\",\n",
    "    \"fashion influencer\",\n",
    "    \"fitness influencer\",\n",
    "    \"travel influencer\",\n",
    "    \"education influencer\",\n",
    "    \"gaming influencer\",\n",
    "    \"music creator\",\n",
    "    \"beauty vlogger\",\n",
    "    \"food blogger\",\n",
    "    \"finance creator\",\n",
    "    \"lifestyle influencer\",\n",
    "    \"parenting influencer\",\n",
    "    \"motivational speaker\",\n",
    "    \"DIY influencer\",\n",
    "    \"photography vlogger\",\n",
    "]"
   ]
  },
  {
   "cell_type": "code",
   "execution_count": null,
   "metadata": {},
   "outputs": [],
   "source": [
    "OUTPUT_FILE = \"youtube_influencers_partial.csv\"\n",
    "MAX_INFLUENCERS = 5000\n",
    "SAVE_EVERY = 100  # save progress every N channels\n",
    "MAX_RESULTS_PER_QUERY = 50"
   ]
  },
  {
   "cell_type": "markdown",
   "metadata": {},
   "source": [
    "==========================================================<br>\n",
    "API SETUP<br>\n",
    "=========================================================="
   ]
  },
  {
   "cell_type": "code",
   "execution_count": null,
   "metadata": {},
   "outputs": [],
   "source": [
    "api_cycle = itertools.cycle(API_KEYS)\n",
    "current_key = next(api_cycle)"
   ]
  },
  {
   "cell_type": "code",
   "execution_count": null,
   "metadata": {},
   "outputs": [],
   "source": [
    "def create_youtube_client(api_key):\n",
    "    return build(\"youtube\", \"v3\", developerKey=api_key, cache_discovery=False)"
   ]
  },
  {
   "cell_type": "code",
   "execution_count": null,
   "metadata": {},
   "outputs": [],
   "source": [
    "youtube = create_youtube_client(current_key)\n",
    "print(f\" Using API key: {current_key}\")"
   ]
  },
  {
   "cell_type": "code",
   "execution_count": null,
   "metadata": {},
   "outputs": [],
   "source": [
    "def switch_api_key():\n",
    "    global youtube, current_key\n",
    "    current_key = next(api_cycle)\n",
    "    print(f\" Switching API key to: {current_key}\")\n",
    "    youtube = create_youtube_client(current_key)"
   ]
  },
  {
   "cell_type": "markdown",
   "metadata": {},
   "source": [
    "==========================================================<br>\n",
    "RESUME SUPPORT<br>\n",
    "=========================================================="
   ]
  },
  {
   "cell_type": "code",
   "execution_count": null,
   "metadata": {},
   "outputs": [],
   "source": [
    "if os.path.exists(OUTPUT_FILE):\n",
    "    df_existing = pd.read_csv(OUTPUT_FILE)\n",
    "    all_data = df_existing.to_dict(\"records\")\n",
    "    collected_ids = set(df_existing[\"channelId\"].astype(str))\n",
    "    print(f\" Resuming from {len(df_existing)} saved channels.\")\n",
    "else:\n",
    "    print(\" No previous data found. Starting fresh.\")\n",
    "    all_data = []\n",
    "    collected_ids = set()"
   ]
  },
  {
   "cell_type": "markdown",
   "metadata": {},
   "source": [
    "==========================================================<br>\n",
    "MAIN SCRAPER LOGIC<br>\n",
    "=========================================================="
   ]
  },
  {
   "cell_type": "code",
   "execution_count": null,
   "metadata": {},
   "outputs": [],
   "source": [
    "for query in SEARCH_QUERIES:\n",
    "    print(f\"\\n Searching for: {query}\")\n",
    "    next_page_token = None\n",
    "    while len(all_data) < MAX_INFLUENCERS:\n",
    "        try:\n",
    "            res = (\n",
    "                youtube.search()\n",
    "                .list(\n",
    "                    part=\"snippet\",\n",
    "                    type=\"channel\",\n",
    "                    q=query,\n",
    "                    maxResults=MAX_RESULTS_PER_QUERY,\n",
    "                    pageToken=next_page_token,\n",
    "                )\n",
    "                .execute()\n",
    "            )\n",
    "            channels = res.get(\"items\", [])\n",
    "            channel_ids = [c[\"id\"][\"channelId\"] for c in channels]\n",
    "\n",
    "            # Get stats\n",
    "            stats = (\n",
    "                youtube.channels()\n",
    "                .list(part=\"snippet,statistics\", id=\",\".join(channel_ids))\n",
    "                .execute()\n",
    "            )\n",
    "            for ch in stats.get(\"items\", []):\n",
    "                ch_id = ch[\"id\"]\n",
    "                if ch_id in collected_ids:\n",
    "                    continue\n",
    "                data = {\n",
    "                    \"channelId\": ch_id,\n",
    "                    \"title\": ch[\"snippet\"][\"title\"],\n",
    "                    \"description\": ch[\"snippet\"].get(\"description\", \"\"),\n",
    "                    \"publishedAt\": ch[\"snippet\"].get(\"publishedAt\", \"\"),\n",
    "                    \"subscriberCount\": int(ch[\"statistics\"].get(\"subscriberCount\", 0)),\n",
    "                    \"viewCount\": int(ch[\"statistics\"].get(\"viewCount\", 0)),\n",
    "                    \"videoCount\": int(ch[\"statistics\"].get(\"videoCount\", 0)),\n",
    "                    \"query\": query,\n",
    "                }\n",
    "                if data[\"subscriberCount\"] >= 5000:  # filter min 5K subs\n",
    "                    all_data.append(data)\n",
    "                    collected_ids.add(ch_id)\n",
    "                if len(all_data) % SAVE_EVERY == 0:\n",
    "                    pd.DataFrame(all_data).to_csv(OUTPUT_FILE, index=False)\n",
    "                    print(f\" Saved {len(all_data)} influencers so far...\")\n",
    "            next_page_token = res.get(\"nextPageToken\")\n",
    "            if not next_page_token:\n",
    "                break\n",
    "        except HttpError as e:\n",
    "            if \"quotaExceeded\" in str(e):\n",
    "                print(\" Quota exceeded for this key. Switching API key...\")\n",
    "                switch_api_key()\n",
    "                continue\n",
    "            elif \"userRateLimitExceeded\" in str(e):\n",
    "                print(\" Temporary rate limit hit. Waiting 10s...\")\n",
    "                time.sleep(10)\n",
    "                continue\n",
    "            else:\n",
    "                print(f\" API error: {e}\")\n",
    "                time.sleep(5)\n",
    "                continue\n",
    "        if len(all_data) >= MAX_INFLUENCERS:\n",
    "            break"
   ]
  },
  {
   "cell_type": "markdown",
   "metadata": {},
   "source": [
    "==========================================================<br>\n",
    "FINAL SAVE<br>\n",
    "=========================================================="
   ]
  },
  {
   "cell_type": "code",
   "execution_count": null,
   "metadata": {},
   "outputs": [],
   "source": [
    "pd.DataFrame(all_data).to_csv(OUTPUT_FILE, index=False)\n",
    "print(f\"\\n Finished! Collected {len(all_data)} influencer channels.\")\n",
    "print(f\" Data saved to {OUTPUT_FILE}\")"
   ]
  }
 ],
 "metadata": {
  "kernelspec": {
   "display_name": "Python 3 (ipykernel)",
   "language": "python",
   "name": "python3"
  },
  "language_info": {
   "codemirror_mode": {
    "name": "ipython",
    "version": 3
   },
   "file_extension": ".py",
   "mimetype": "text/x-python",
   "name": "python",
   "nbconvert_exporter": "python",
   "pygments_lexer": "ipython3",
   "version": "3.13.2"
  }
 },
 "nbformat": 4,
 "nbformat_minor": 4
}
